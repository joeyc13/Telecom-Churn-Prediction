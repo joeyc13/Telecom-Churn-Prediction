{
 "cells": [
  {
   "attachments": {},
   "cell_type": "markdown",
   "metadata": {},
   "source": [
    "# Use ML to Predict Customer Churn\n",
    "\n",
    "The dataset used in this project consist of over 7000 records and 38 features. The data is raw and will require cleaning. The goal of this project is to create a model that can predict customer churn based off of these features. I will be using a Logistic Regression model and a Random Forest model for this project. At the end, I will compare the results for each and assess which is more suited for this task."
   ]
  },
  {
   "cell_type": "code",
   "execution_count": 946,
   "metadata": {},
   "outputs": [],
   "source": [
    "import pandas as pd\n",
    "from matplotlib import pyplot as plt\n",
    "import seaborn as sns\n",
    "import numpy as np"
   ]
  },
  {
   "cell_type": "code",
   "execution_count": 947,
   "metadata": {},
   "outputs": [
    {
     "data": {
      "text/html": [
       "<div>\n",
       "<style scoped>\n",
       "    .dataframe tbody tr th:only-of-type {\n",
       "        vertical-align: middle;\n",
       "    }\n",
       "\n",
       "    .dataframe tbody tr th {\n",
       "        vertical-align: top;\n",
       "    }\n",
       "\n",
       "    .dataframe thead th {\n",
       "        text-align: right;\n",
       "    }\n",
       "</style>\n",
       "<table border=\"1\" class=\"dataframe\">\n",
       "  <thead>\n",
       "    <tr style=\"text-align: right;\">\n",
       "      <th></th>\n",
       "      <th>Customer ID</th>\n",
       "      <th>Gender</th>\n",
       "      <th>Age</th>\n",
       "      <th>Married</th>\n",
       "      <th>Number of Dependents</th>\n",
       "      <th>City</th>\n",
       "      <th>Zip Code</th>\n",
       "      <th>Latitude</th>\n",
       "      <th>Longitude</th>\n",
       "      <th>Number of Referrals</th>\n",
       "      <th>...</th>\n",
       "      <th>Payment Method</th>\n",
       "      <th>Monthly Charge</th>\n",
       "      <th>Total Charges</th>\n",
       "      <th>Total Refunds</th>\n",
       "      <th>Total Extra Data Charges</th>\n",
       "      <th>Total Long Distance Charges</th>\n",
       "      <th>Total Revenue</th>\n",
       "      <th>Customer Status</th>\n",
       "      <th>Churn Category</th>\n",
       "      <th>Churn Reason</th>\n",
       "    </tr>\n",
       "  </thead>\n",
       "  <tbody>\n",
       "    <tr>\n",
       "      <th>0</th>\n",
       "      <td>0002-ORFBO</td>\n",
       "      <td>Female</td>\n",
       "      <td>37</td>\n",
       "      <td>Yes</td>\n",
       "      <td>0</td>\n",
       "      <td>Frazier Park</td>\n",
       "      <td>93225</td>\n",
       "      <td>34.827662</td>\n",
       "      <td>-118.999073</td>\n",
       "      <td>2</td>\n",
       "      <td>...</td>\n",
       "      <td>Credit Card</td>\n",
       "      <td>65.6</td>\n",
       "      <td>593.30</td>\n",
       "      <td>0.00</td>\n",
       "      <td>0</td>\n",
       "      <td>381.51</td>\n",
       "      <td>974.81</td>\n",
       "      <td>Stayed</td>\n",
       "      <td>NaN</td>\n",
       "      <td>NaN</td>\n",
       "    </tr>\n",
       "    <tr>\n",
       "      <th>1</th>\n",
       "      <td>0003-MKNFE</td>\n",
       "      <td>Male</td>\n",
       "      <td>46</td>\n",
       "      <td>No</td>\n",
       "      <td>0</td>\n",
       "      <td>Glendale</td>\n",
       "      <td>91206</td>\n",
       "      <td>34.162515</td>\n",
       "      <td>-118.203869</td>\n",
       "      <td>0</td>\n",
       "      <td>...</td>\n",
       "      <td>Credit Card</td>\n",
       "      <td>-4.0</td>\n",
       "      <td>542.40</td>\n",
       "      <td>38.33</td>\n",
       "      <td>10</td>\n",
       "      <td>96.21</td>\n",
       "      <td>610.28</td>\n",
       "      <td>Stayed</td>\n",
       "      <td>NaN</td>\n",
       "      <td>NaN</td>\n",
       "    </tr>\n",
       "    <tr>\n",
       "      <th>2</th>\n",
       "      <td>0004-TLHLJ</td>\n",
       "      <td>Male</td>\n",
       "      <td>50</td>\n",
       "      <td>No</td>\n",
       "      <td>0</td>\n",
       "      <td>Costa Mesa</td>\n",
       "      <td>92627</td>\n",
       "      <td>33.645672</td>\n",
       "      <td>-117.922613</td>\n",
       "      <td>0</td>\n",
       "      <td>...</td>\n",
       "      <td>Bank Withdrawal</td>\n",
       "      <td>73.9</td>\n",
       "      <td>280.85</td>\n",
       "      <td>0.00</td>\n",
       "      <td>0</td>\n",
       "      <td>134.60</td>\n",
       "      <td>415.45</td>\n",
       "      <td>Churned</td>\n",
       "      <td>Competitor</td>\n",
       "      <td>Competitor had better devices</td>\n",
       "    </tr>\n",
       "    <tr>\n",
       "      <th>3</th>\n",
       "      <td>0011-IGKFF</td>\n",
       "      <td>Male</td>\n",
       "      <td>78</td>\n",
       "      <td>Yes</td>\n",
       "      <td>0</td>\n",
       "      <td>Martinez</td>\n",
       "      <td>94553</td>\n",
       "      <td>38.014457</td>\n",
       "      <td>-122.115432</td>\n",
       "      <td>1</td>\n",
       "      <td>...</td>\n",
       "      <td>Bank Withdrawal</td>\n",
       "      <td>98.0</td>\n",
       "      <td>1237.85</td>\n",
       "      <td>0.00</td>\n",
       "      <td>0</td>\n",
       "      <td>361.66</td>\n",
       "      <td>1599.51</td>\n",
       "      <td>Churned</td>\n",
       "      <td>Dissatisfaction</td>\n",
       "      <td>Product dissatisfaction</td>\n",
       "    </tr>\n",
       "    <tr>\n",
       "      <th>4</th>\n",
       "      <td>0013-EXCHZ</td>\n",
       "      <td>Female</td>\n",
       "      <td>75</td>\n",
       "      <td>Yes</td>\n",
       "      <td>0</td>\n",
       "      <td>Camarillo</td>\n",
       "      <td>93010</td>\n",
       "      <td>34.227846</td>\n",
       "      <td>-119.079903</td>\n",
       "      <td>3</td>\n",
       "      <td>...</td>\n",
       "      <td>Credit Card</td>\n",
       "      <td>83.9</td>\n",
       "      <td>267.40</td>\n",
       "      <td>0.00</td>\n",
       "      <td>0</td>\n",
       "      <td>22.14</td>\n",
       "      <td>289.54</td>\n",
       "      <td>Churned</td>\n",
       "      <td>Dissatisfaction</td>\n",
       "      <td>Network reliability</td>\n",
       "    </tr>\n",
       "  </tbody>\n",
       "</table>\n",
       "<p>5 rows × 38 columns</p>\n",
       "</div>"
      ],
      "text/plain": [
       "  Customer ID  Gender  Age Married  Number of Dependents          City  \\\n",
       "0  0002-ORFBO  Female   37     Yes                     0  Frazier Park   \n",
       "1  0003-MKNFE    Male   46      No                     0      Glendale   \n",
       "2  0004-TLHLJ    Male   50      No                     0    Costa Mesa   \n",
       "3  0011-IGKFF    Male   78     Yes                     0      Martinez   \n",
       "4  0013-EXCHZ  Female   75     Yes                     0     Camarillo   \n",
       "\n",
       "   Zip Code   Latitude   Longitude  Number of Referrals  ...   Payment Method  \\\n",
       "0     93225  34.827662 -118.999073                    2  ...      Credit Card   \n",
       "1     91206  34.162515 -118.203869                    0  ...      Credit Card   \n",
       "2     92627  33.645672 -117.922613                    0  ...  Bank Withdrawal   \n",
       "3     94553  38.014457 -122.115432                    1  ...  Bank Withdrawal   \n",
       "4     93010  34.227846 -119.079903                    3  ...      Credit Card   \n",
       "\n",
       "  Monthly Charge Total Charges  Total Refunds Total Extra Data Charges  \\\n",
       "0           65.6        593.30           0.00                        0   \n",
       "1           -4.0        542.40          38.33                       10   \n",
       "2           73.9        280.85           0.00                        0   \n",
       "3           98.0       1237.85           0.00                        0   \n",
       "4           83.9        267.40           0.00                        0   \n",
       "\n",
       "  Total Long Distance Charges Total Revenue  Customer Status   Churn Category  \\\n",
       "0                      381.51        974.81           Stayed              NaN   \n",
       "1                       96.21        610.28           Stayed              NaN   \n",
       "2                      134.60        415.45          Churned       Competitor   \n",
       "3                      361.66       1599.51          Churned  Dissatisfaction   \n",
       "4                       22.14        289.54          Churned  Dissatisfaction   \n",
       "\n",
       "                    Churn Reason  \n",
       "0                            NaN  \n",
       "1                            NaN  \n",
       "2  Competitor had better devices  \n",
       "3        Product dissatisfaction  \n",
       "4            Network reliability  \n",
       "\n",
       "[5 rows x 38 columns]"
      ]
     },
     "execution_count": 947,
     "metadata": {},
     "output_type": "execute_result"
    }
   ],
   "source": [
    "df = pd.read_csv('telecom_customer_churn.csv')\n",
    "df.head()"
   ]
  },
  {
   "cell_type": "code",
   "execution_count": 948,
   "metadata": {},
   "outputs": [
    {
     "data": {
      "text/html": [
       "<div>\n",
       "<style scoped>\n",
       "    .dataframe tbody tr th:only-of-type {\n",
       "        vertical-align: middle;\n",
       "    }\n",
       "\n",
       "    .dataframe tbody tr th {\n",
       "        vertical-align: top;\n",
       "    }\n",
       "\n",
       "    .dataframe thead th {\n",
       "        text-align: right;\n",
       "    }\n",
       "</style>\n",
       "<table border=\"1\" class=\"dataframe\">\n",
       "  <thead>\n",
       "    <tr style=\"text-align: right;\">\n",
       "      <th></th>\n",
       "      <th>Age</th>\n",
       "      <th>Number of Dependents</th>\n",
       "      <th>Zip Code</th>\n",
       "      <th>Latitude</th>\n",
       "      <th>Longitude</th>\n",
       "      <th>Number of Referrals</th>\n",
       "      <th>Tenure in Months</th>\n",
       "      <th>Avg Monthly Long Distance Charges</th>\n",
       "      <th>Avg Monthly GB Download</th>\n",
       "      <th>Monthly Charge</th>\n",
       "      <th>Total Charges</th>\n",
       "      <th>Total Refunds</th>\n",
       "      <th>Total Extra Data Charges</th>\n",
       "      <th>Total Long Distance Charges</th>\n",
       "      <th>Total Revenue</th>\n",
       "    </tr>\n",
       "  </thead>\n",
       "  <tbody>\n",
       "    <tr>\n",
       "      <th>count</th>\n",
       "      <td>7043.000000</td>\n",
       "      <td>7043.000000</td>\n",
       "      <td>7043.000000</td>\n",
       "      <td>7043.000000</td>\n",
       "      <td>7043.000000</td>\n",
       "      <td>7043.000000</td>\n",
       "      <td>7043.000000</td>\n",
       "      <td>6361.000000</td>\n",
       "      <td>5517.000000</td>\n",
       "      <td>7043.000000</td>\n",
       "      <td>7043.000000</td>\n",
       "      <td>7043.000000</td>\n",
       "      <td>7043.000000</td>\n",
       "      <td>7043.000000</td>\n",
       "      <td>7043.000000</td>\n",
       "    </tr>\n",
       "    <tr>\n",
       "      <th>mean</th>\n",
       "      <td>46.509726</td>\n",
       "      <td>0.468692</td>\n",
       "      <td>93486.070567</td>\n",
       "      <td>36.197455</td>\n",
       "      <td>-119.756684</td>\n",
       "      <td>1.951867</td>\n",
       "      <td>32.386767</td>\n",
       "      <td>25.420517</td>\n",
       "      <td>26.189958</td>\n",
       "      <td>63.596131</td>\n",
       "      <td>2280.381264</td>\n",
       "      <td>1.962182</td>\n",
       "      <td>6.860713</td>\n",
       "      <td>749.099262</td>\n",
       "      <td>3034.379056</td>\n",
       "    </tr>\n",
       "    <tr>\n",
       "      <th>std</th>\n",
       "      <td>16.750352</td>\n",
       "      <td>0.962802</td>\n",
       "      <td>1856.767505</td>\n",
       "      <td>2.468929</td>\n",
       "      <td>2.154425</td>\n",
       "      <td>3.001199</td>\n",
       "      <td>24.542061</td>\n",
       "      <td>14.200374</td>\n",
       "      <td>19.586585</td>\n",
       "      <td>31.204743</td>\n",
       "      <td>2266.220462</td>\n",
       "      <td>7.902614</td>\n",
       "      <td>25.104978</td>\n",
       "      <td>846.660055</td>\n",
       "      <td>2865.204542</td>\n",
       "    </tr>\n",
       "    <tr>\n",
       "      <th>min</th>\n",
       "      <td>19.000000</td>\n",
       "      <td>0.000000</td>\n",
       "      <td>90001.000000</td>\n",
       "      <td>32.555828</td>\n",
       "      <td>-124.301372</td>\n",
       "      <td>0.000000</td>\n",
       "      <td>1.000000</td>\n",
       "      <td>1.010000</td>\n",
       "      <td>2.000000</td>\n",
       "      <td>-10.000000</td>\n",
       "      <td>18.800000</td>\n",
       "      <td>0.000000</td>\n",
       "      <td>0.000000</td>\n",
       "      <td>0.000000</td>\n",
       "      <td>21.360000</td>\n",
       "    </tr>\n",
       "    <tr>\n",
       "      <th>25%</th>\n",
       "      <td>32.000000</td>\n",
       "      <td>0.000000</td>\n",
       "      <td>92101.000000</td>\n",
       "      <td>33.990646</td>\n",
       "      <td>-121.788090</td>\n",
       "      <td>0.000000</td>\n",
       "      <td>9.000000</td>\n",
       "      <td>13.050000</td>\n",
       "      <td>13.000000</td>\n",
       "      <td>30.400000</td>\n",
       "      <td>400.150000</td>\n",
       "      <td>0.000000</td>\n",
       "      <td>0.000000</td>\n",
       "      <td>70.545000</td>\n",
       "      <td>605.610000</td>\n",
       "    </tr>\n",
       "    <tr>\n",
       "      <th>50%</th>\n",
       "      <td>46.000000</td>\n",
       "      <td>0.000000</td>\n",
       "      <td>93518.000000</td>\n",
       "      <td>36.205465</td>\n",
       "      <td>-119.595293</td>\n",
       "      <td>0.000000</td>\n",
       "      <td>29.000000</td>\n",
       "      <td>25.690000</td>\n",
       "      <td>21.000000</td>\n",
       "      <td>70.050000</td>\n",
       "      <td>1394.550000</td>\n",
       "      <td>0.000000</td>\n",
       "      <td>0.000000</td>\n",
       "      <td>401.440000</td>\n",
       "      <td>2108.640000</td>\n",
       "    </tr>\n",
       "    <tr>\n",
       "      <th>75%</th>\n",
       "      <td>60.000000</td>\n",
       "      <td>0.000000</td>\n",
       "      <td>95329.000000</td>\n",
       "      <td>38.161321</td>\n",
       "      <td>-117.969795</td>\n",
       "      <td>3.000000</td>\n",
       "      <td>55.000000</td>\n",
       "      <td>37.680000</td>\n",
       "      <td>30.000000</td>\n",
       "      <td>89.750000</td>\n",
       "      <td>3786.600000</td>\n",
       "      <td>0.000000</td>\n",
       "      <td>0.000000</td>\n",
       "      <td>1191.100000</td>\n",
       "      <td>4801.145000</td>\n",
       "    </tr>\n",
       "    <tr>\n",
       "      <th>max</th>\n",
       "      <td>80.000000</td>\n",
       "      <td>9.000000</td>\n",
       "      <td>96150.000000</td>\n",
       "      <td>41.962127</td>\n",
       "      <td>-114.192901</td>\n",
       "      <td>11.000000</td>\n",
       "      <td>72.000000</td>\n",
       "      <td>49.990000</td>\n",
       "      <td>85.000000</td>\n",
       "      <td>118.750000</td>\n",
       "      <td>8684.800000</td>\n",
       "      <td>49.790000</td>\n",
       "      <td>150.000000</td>\n",
       "      <td>3564.720000</td>\n",
       "      <td>11979.340000</td>\n",
       "    </tr>\n",
       "  </tbody>\n",
       "</table>\n",
       "</div>"
      ],
      "text/plain": [
       "               Age  Number of Dependents      Zip Code     Latitude  \\\n",
       "count  7043.000000           7043.000000   7043.000000  7043.000000   \n",
       "mean     46.509726              0.468692  93486.070567    36.197455   \n",
       "std      16.750352              0.962802   1856.767505     2.468929   \n",
       "min      19.000000              0.000000  90001.000000    32.555828   \n",
       "25%      32.000000              0.000000  92101.000000    33.990646   \n",
       "50%      46.000000              0.000000  93518.000000    36.205465   \n",
       "75%      60.000000              0.000000  95329.000000    38.161321   \n",
       "max      80.000000              9.000000  96150.000000    41.962127   \n",
       "\n",
       "         Longitude  Number of Referrals  Tenure in Months  \\\n",
       "count  7043.000000          7043.000000       7043.000000   \n",
       "mean   -119.756684             1.951867         32.386767   \n",
       "std       2.154425             3.001199         24.542061   \n",
       "min    -124.301372             0.000000          1.000000   \n",
       "25%    -121.788090             0.000000          9.000000   \n",
       "50%    -119.595293             0.000000         29.000000   \n",
       "75%    -117.969795             3.000000         55.000000   \n",
       "max    -114.192901            11.000000         72.000000   \n",
       "\n",
       "       Avg Monthly Long Distance Charges  Avg Monthly GB Download  \\\n",
       "count                        6361.000000              5517.000000   \n",
       "mean                           25.420517                26.189958   \n",
       "std                            14.200374                19.586585   \n",
       "min                             1.010000                 2.000000   \n",
       "25%                            13.050000                13.000000   \n",
       "50%                            25.690000                21.000000   \n",
       "75%                            37.680000                30.000000   \n",
       "max                            49.990000                85.000000   \n",
       "\n",
       "       Monthly Charge  Total Charges  Total Refunds  Total Extra Data Charges  \\\n",
       "count     7043.000000    7043.000000    7043.000000               7043.000000   \n",
       "mean        63.596131    2280.381264       1.962182                  6.860713   \n",
       "std         31.204743    2266.220462       7.902614                 25.104978   \n",
       "min        -10.000000      18.800000       0.000000                  0.000000   \n",
       "25%         30.400000     400.150000       0.000000                  0.000000   \n",
       "50%         70.050000    1394.550000       0.000000                  0.000000   \n",
       "75%         89.750000    3786.600000       0.000000                  0.000000   \n",
       "max        118.750000    8684.800000      49.790000                150.000000   \n",
       "\n",
       "       Total Long Distance Charges  Total Revenue  \n",
       "count                  7043.000000    7043.000000  \n",
       "mean                    749.099262    3034.379056  \n",
       "std                     846.660055    2865.204542  \n",
       "min                       0.000000      21.360000  \n",
       "25%                      70.545000     605.610000  \n",
       "50%                     401.440000    2108.640000  \n",
       "75%                    1191.100000    4801.145000  \n",
       "max                    3564.720000   11979.340000  "
      ]
     },
     "execution_count": 948,
     "metadata": {},
     "output_type": "execute_result"
    }
   ],
   "source": [
    "df.describe()"
   ]
  },
  {
   "cell_type": "code",
   "execution_count": 949,
   "metadata": {},
   "outputs": [
    {
     "data": {
      "text/plain": [
       "Index(['Customer ID', 'Gender', 'Age', 'Married', 'Number of Dependents',\n",
       "       'City', 'Zip Code', 'Latitude', 'Longitude', 'Number of Referrals',\n",
       "       'Tenure in Months', 'Offer', 'Phone Service',\n",
       "       'Avg Monthly Long Distance Charges', 'Multiple Lines',\n",
       "       'Internet Service', 'Internet Type', 'Avg Monthly GB Download',\n",
       "       'Online Security', 'Online Backup', 'Device Protection Plan',\n",
       "       'Premium Tech Support', 'Streaming TV', 'Streaming Movies',\n",
       "       'Streaming Music', 'Unlimited Data', 'Contract', 'Paperless Billing',\n",
       "       'Payment Method', 'Monthly Charge', 'Total Charges', 'Total Refunds',\n",
       "       'Total Extra Data Charges', 'Total Long Distance Charges',\n",
       "       'Total Revenue', 'Customer Status', 'Churn Category', 'Churn Reason'],\n",
       "      dtype='object')"
      ]
     },
     "execution_count": 949,
     "metadata": {},
     "output_type": "execute_result"
    }
   ],
   "source": [
    "df.columns"
   ]
  },
  {
   "attachments": {},
   "cell_type": "markdown",
   "metadata": {},
   "source": [
    "# Feature Engineering\n",
    "\n",
    "1. Some columns are redundant or don't provide useful information for analysis so I will remove them from the dataset.\n",
    "2. I will transform categorical features to \"dummies\" to help with ML analysis. \n",
    "3. The \"telecom_data_dictionary\" CSV file indicates that features that do not apply to certain rows are handled. For example, when feature \"Internet Service\" is labeled as \"No\" then features such as \"Streaming Movies\" are also labeled \"No\". However, upon review of the data, this is not the case. Instead, these values appear as NaN. To prevent this from affecting the results of the model these NaN values will need to be handled. \n",
    "\n",
    "The following features will be kept for further analysis:\n",
    "\n",
    "Gender, Age, Marriage, Number of Dependents, Zip Code, Number of Referrals, Tenure in Months, Offer, Phone Service, Avg Monthly Long Distance Charges, Multiple Lines, Internet Service, Internet Type, Avg Monthly GB Download, Streaming TV, Streaming Movies, Streaming MUsic, Unlimited Data, Contract, Payment Method, Monthly Charge, Total Charges, Total Refunds, Total Extra Data Charges, Total Long Distance Charges, Total Revenue, Customer Status, Churn Category"
   ]
  },
  {
   "cell_type": "code",
   "execution_count": 950,
   "metadata": {},
   "outputs": [
    {
     "data": {
      "text/html": [
       "<div>\n",
       "<style scoped>\n",
       "    .dataframe tbody tr th:only-of-type {\n",
       "        vertical-align: middle;\n",
       "    }\n",
       "\n",
       "    .dataframe tbody tr th {\n",
       "        vertical-align: top;\n",
       "    }\n",
       "\n",
       "    .dataframe thead th {\n",
       "        text-align: right;\n",
       "    }\n",
       "</style>\n",
       "<table border=\"1\" class=\"dataframe\">\n",
       "  <thead>\n",
       "    <tr style=\"text-align: right;\">\n",
       "      <th></th>\n",
       "      <th>Gender</th>\n",
       "      <th>Age</th>\n",
       "      <th>Married</th>\n",
       "      <th>Number of Dependents</th>\n",
       "      <th>Number of Referrals</th>\n",
       "      <th>Tenure in Months</th>\n",
       "      <th>Offer</th>\n",
       "      <th>Phone Service</th>\n",
       "      <th>Avg Monthly Long Distance Charges</th>\n",
       "      <th>Multiple Lines</th>\n",
       "      <th>...</th>\n",
       "      <th>Unlimited Data</th>\n",
       "      <th>Contract</th>\n",
       "      <th>Payment Method</th>\n",
       "      <th>Monthly Charge</th>\n",
       "      <th>Total Charges</th>\n",
       "      <th>Total Refunds</th>\n",
       "      <th>Total Extra Data Charges</th>\n",
       "      <th>Total Long Distance Charges</th>\n",
       "      <th>Total Revenue</th>\n",
       "      <th>Customer Status</th>\n",
       "    </tr>\n",
       "  </thead>\n",
       "  <tbody>\n",
       "    <tr>\n",
       "      <th>0</th>\n",
       "      <td>Female</td>\n",
       "      <td>37</td>\n",
       "      <td>Yes</td>\n",
       "      <td>0</td>\n",
       "      <td>2</td>\n",
       "      <td>9</td>\n",
       "      <td>None</td>\n",
       "      <td>Yes</td>\n",
       "      <td>42.39</td>\n",
       "      <td>No</td>\n",
       "      <td>...</td>\n",
       "      <td>Yes</td>\n",
       "      <td>One Year</td>\n",
       "      <td>Credit Card</td>\n",
       "      <td>65.6</td>\n",
       "      <td>593.30</td>\n",
       "      <td>0.00</td>\n",
       "      <td>0</td>\n",
       "      <td>381.51</td>\n",
       "      <td>974.81</td>\n",
       "      <td>Stayed</td>\n",
       "    </tr>\n",
       "    <tr>\n",
       "      <th>1</th>\n",
       "      <td>Male</td>\n",
       "      <td>46</td>\n",
       "      <td>No</td>\n",
       "      <td>0</td>\n",
       "      <td>0</td>\n",
       "      <td>9</td>\n",
       "      <td>None</td>\n",
       "      <td>Yes</td>\n",
       "      <td>10.69</td>\n",
       "      <td>Yes</td>\n",
       "      <td>...</td>\n",
       "      <td>No</td>\n",
       "      <td>Month-to-Month</td>\n",
       "      <td>Credit Card</td>\n",
       "      <td>-4.0</td>\n",
       "      <td>542.40</td>\n",
       "      <td>38.33</td>\n",
       "      <td>10</td>\n",
       "      <td>96.21</td>\n",
       "      <td>610.28</td>\n",
       "      <td>Stayed</td>\n",
       "    </tr>\n",
       "    <tr>\n",
       "      <th>2</th>\n",
       "      <td>Male</td>\n",
       "      <td>50</td>\n",
       "      <td>No</td>\n",
       "      <td>0</td>\n",
       "      <td>0</td>\n",
       "      <td>4</td>\n",
       "      <td>Offer E</td>\n",
       "      <td>Yes</td>\n",
       "      <td>33.65</td>\n",
       "      <td>No</td>\n",
       "      <td>...</td>\n",
       "      <td>Yes</td>\n",
       "      <td>Month-to-Month</td>\n",
       "      <td>Bank Withdrawal</td>\n",
       "      <td>73.9</td>\n",
       "      <td>280.85</td>\n",
       "      <td>0.00</td>\n",
       "      <td>0</td>\n",
       "      <td>134.60</td>\n",
       "      <td>415.45</td>\n",
       "      <td>Churned</td>\n",
       "    </tr>\n",
       "    <tr>\n",
       "      <th>3</th>\n",
       "      <td>Male</td>\n",
       "      <td>78</td>\n",
       "      <td>Yes</td>\n",
       "      <td>0</td>\n",
       "      <td>1</td>\n",
       "      <td>13</td>\n",
       "      <td>Offer D</td>\n",
       "      <td>Yes</td>\n",
       "      <td>27.82</td>\n",
       "      <td>No</td>\n",
       "      <td>...</td>\n",
       "      <td>Yes</td>\n",
       "      <td>Month-to-Month</td>\n",
       "      <td>Bank Withdrawal</td>\n",
       "      <td>98.0</td>\n",
       "      <td>1237.85</td>\n",
       "      <td>0.00</td>\n",
       "      <td>0</td>\n",
       "      <td>361.66</td>\n",
       "      <td>1599.51</td>\n",
       "      <td>Churned</td>\n",
       "    </tr>\n",
       "    <tr>\n",
       "      <th>4</th>\n",
       "      <td>Female</td>\n",
       "      <td>75</td>\n",
       "      <td>Yes</td>\n",
       "      <td>0</td>\n",
       "      <td>3</td>\n",
       "      <td>3</td>\n",
       "      <td>None</td>\n",
       "      <td>Yes</td>\n",
       "      <td>7.38</td>\n",
       "      <td>No</td>\n",
       "      <td>...</td>\n",
       "      <td>Yes</td>\n",
       "      <td>Month-to-Month</td>\n",
       "      <td>Credit Card</td>\n",
       "      <td>83.9</td>\n",
       "      <td>267.40</td>\n",
       "      <td>0.00</td>\n",
       "      <td>0</td>\n",
       "      <td>22.14</td>\n",
       "      <td>289.54</td>\n",
       "      <td>Churned</td>\n",
       "    </tr>\n",
       "  </tbody>\n",
       "</table>\n",
       "<p>5 rows × 26 columns</p>\n",
       "</div>"
      ],
      "text/plain": [
       "   Gender  Age Married  Number of Dependents  Number of Referrals  \\\n",
       "0  Female   37     Yes                     0                    2   \n",
       "1    Male   46      No                     0                    0   \n",
       "2    Male   50      No                     0                    0   \n",
       "3    Male   78     Yes                     0                    1   \n",
       "4  Female   75     Yes                     0                    3   \n",
       "\n",
       "   Tenure in Months    Offer Phone Service  Avg Monthly Long Distance Charges  \\\n",
       "0                 9     None           Yes                              42.39   \n",
       "1                 9     None           Yes                              10.69   \n",
       "2                 4  Offer E           Yes                              33.65   \n",
       "3                13  Offer D           Yes                              27.82   \n",
       "4                 3     None           Yes                               7.38   \n",
       "\n",
       "  Multiple Lines  ... Unlimited Data        Contract   Payment Method  \\\n",
       "0             No  ...            Yes        One Year      Credit Card   \n",
       "1            Yes  ...             No  Month-to-Month      Credit Card   \n",
       "2             No  ...            Yes  Month-to-Month  Bank Withdrawal   \n",
       "3             No  ...            Yes  Month-to-Month  Bank Withdrawal   \n",
       "4             No  ...            Yes  Month-to-Month      Credit Card   \n",
       "\n",
       "  Monthly Charge Total Charges Total Refunds Total Extra Data Charges  \\\n",
       "0           65.6        593.30          0.00                        0   \n",
       "1           -4.0        542.40         38.33                       10   \n",
       "2           73.9        280.85          0.00                        0   \n",
       "3           98.0       1237.85          0.00                        0   \n",
       "4           83.9        267.40          0.00                        0   \n",
       "\n",
       "  Total Long Distance Charges Total Revenue  Customer Status  \n",
       "0                      381.51        974.81           Stayed  \n",
       "1                       96.21        610.28           Stayed  \n",
       "2                      134.60        415.45          Churned  \n",
       "3                      361.66       1599.51          Churned  \n",
       "4                       22.14        289.54          Churned  \n",
       "\n",
       "[5 rows x 26 columns]"
      ]
     },
     "execution_count": 950,
     "metadata": {},
     "output_type": "execute_result"
    }
   ],
   "source": [
    "telecom = df.loc[:,[\n",
    "    'Gender', 'Age', 'Married', 'Number of Dependents', 'Number of Referrals', 'Tenure in Months', 'Offer', 'Phone Service', \n",
    "    'Avg Monthly Long Distance Charges', 'Multiple Lines', 'Internet Service', 'Internet Type', 'Avg Monthly GB Download', 'Streaming TV', 'Streaming Movies',\n",
    "    'Streaming Music', 'Unlimited Data', 'Contract', 'Payment Method', 'Monthly Charge', 'Total Charges', 'Total Refunds', 'Total Extra Data Charges',\n",
    "    'Total Long Distance Charges', 'Total Revenue', 'Customer Status' \n",
    "    ]]\n",
    "\n",
    "telecom.head()"
   ]
  },
  {
   "cell_type": "code",
   "execution_count": 951,
   "metadata": {},
   "outputs": [
    {
     "name": "stdout",
     "output_type": "stream",
     "text": [
      "               Age  Number of Dependents  Number of Referrals  \\\n",
      "count  7043.000000           7043.000000          7043.000000   \n",
      "mean     46.509726              0.468692             1.951867   \n",
      "std      16.750352              0.962802             3.001199   \n",
      "min      19.000000              0.000000             0.000000   \n",
      "25%      32.000000              0.000000             0.000000   \n",
      "50%      46.000000              0.000000             0.000000   \n",
      "75%      60.000000              0.000000             3.000000   \n",
      "max      80.000000              9.000000            11.000000   \n",
      "\n",
      "       Tenure in Months  Avg Monthly Long Distance Charges  \\\n",
      "count       7043.000000                        6361.000000   \n",
      "mean          32.386767                          25.420517   \n",
      "std           24.542061                          14.200374   \n",
      "min            1.000000                           1.010000   \n",
      "25%            9.000000                          13.050000   \n",
      "50%           29.000000                          25.690000   \n",
      "75%           55.000000                          37.680000   \n",
      "max           72.000000                          49.990000   \n",
      "\n",
      "       Avg Monthly GB Download  Monthly Charge  Total Charges  Total Refunds  \\\n",
      "count              5517.000000     7043.000000    7043.000000    7043.000000   \n",
      "mean                 26.189958       63.596131    2280.381264       1.962182   \n",
      "std                  19.586585       31.204743    2266.220462       7.902614   \n",
      "min                   2.000000      -10.000000      18.800000       0.000000   \n",
      "25%                  13.000000       30.400000     400.150000       0.000000   \n",
      "50%                  21.000000       70.050000    1394.550000       0.000000   \n",
      "75%                  30.000000       89.750000    3786.600000       0.000000   \n",
      "max                  85.000000      118.750000    8684.800000      49.790000   \n",
      "\n",
      "       Total Extra Data Charges  Total Long Distance Charges  Total Revenue  \n",
      "count               7043.000000                  7043.000000    7043.000000  \n",
      "mean                   6.860713                   749.099262    3034.379056  \n",
      "std                   25.104978                   846.660055    2865.204542  \n",
      "min                    0.000000                     0.000000      21.360000  \n",
      "25%                    0.000000                    70.545000     605.610000  \n",
      "50%                    0.000000                   401.440000    2108.640000  \n",
      "75%                    0.000000                  1191.100000    4801.145000  \n",
      "max                  150.000000                  3564.720000   11979.340000  \n"
     ]
    }
   ],
   "source": [
    "print(telecom.describe())"
   ]
  },
  {
   "attachments": {},
   "cell_type": "markdown",
   "metadata": {},
   "source": [
    "Handle Nan values from customers who do not use internet"
   ]
  },
  {
   "cell_type": "code",
   "execution_count": 952,
   "metadata": {},
   "outputs": [],
   "source": [
    "null_features = ['Multiple Lines', 'Streaming TV', 'Streaming Movies', 'Streaming Music', 'Unlimited Data', ]\n",
    "\n",
    "for feature in null_features:   \n",
    "    telecom[feature] = telecom[feature].fillna('No')\n",
    "\n",
    "telecom['Avg Monthly GB Download'] = telecom['Avg Monthly GB Download'].fillna(0)\n",
    "telecom['Avg Monthly Long Distance Charges'] = telecom['Avg Monthly Long Distance Charges'].fillna(0)\n"
   ]
  },
  {
   "attachments": {},
   "cell_type": "markdown",
   "metadata": {},
   "source": [
    "Now that NaN values in the categorical features are handled I will use Pandas \"pd.get_dummies\" function to get dummy variables for categorical features in the dataset"
   ]
  },
  {
   "cell_type": "code",
   "execution_count": 953,
   "metadata": {},
   "outputs": [
    {
     "data": {
      "text/html": [
       "<div>\n",
       "<style scoped>\n",
       "    .dataframe tbody tr th:only-of-type {\n",
       "        vertical-align: middle;\n",
       "    }\n",
       "\n",
       "    .dataframe tbody tr th {\n",
       "        vertical-align: top;\n",
       "    }\n",
       "\n",
       "    .dataframe thead th {\n",
       "        text-align: right;\n",
       "    }\n",
       "</style>\n",
       "<table border=\"1\" class=\"dataframe\">\n",
       "  <thead>\n",
       "    <tr style=\"text-align: right;\">\n",
       "      <th></th>\n",
       "      <th>Age</th>\n",
       "      <th>Number of Dependents</th>\n",
       "      <th>Number of Referrals</th>\n",
       "      <th>Tenure in Months</th>\n",
       "      <th>Avg Monthly Long Distance Charges</th>\n",
       "      <th>Avg Monthly GB Download</th>\n",
       "      <th>Monthly Charge</th>\n",
       "      <th>Total Charges</th>\n",
       "      <th>Total Refunds</th>\n",
       "      <th>Total Extra Data Charges</th>\n",
       "      <th>...</th>\n",
       "      <th>Gender_Male</th>\n",
       "      <th>Married_Yes</th>\n",
       "      <th>Phone Service_Yes</th>\n",
       "      <th>Internet Service_Yes</th>\n",
       "      <th>Multiple Lines_Yes</th>\n",
       "      <th>Internet Service_Yes</th>\n",
       "      <th>Streaming TV_Yes</th>\n",
       "      <th>Streaming Movies_Yes</th>\n",
       "      <th>Streaming Music_Yes</th>\n",
       "      <th>Unlimited Data_Yes</th>\n",
       "    </tr>\n",
       "  </thead>\n",
       "  <tbody>\n",
       "    <tr>\n",
       "      <th>0</th>\n",
       "      <td>37</td>\n",
       "      <td>0</td>\n",
       "      <td>2</td>\n",
       "      <td>9</td>\n",
       "      <td>42.39</td>\n",
       "      <td>16.0</td>\n",
       "      <td>65.6</td>\n",
       "      <td>593.30</td>\n",
       "      <td>0.00</td>\n",
       "      <td>0</td>\n",
       "      <td>...</td>\n",
       "      <td>0</td>\n",
       "      <td>1</td>\n",
       "      <td>1</td>\n",
       "      <td>1</td>\n",
       "      <td>0</td>\n",
       "      <td>1</td>\n",
       "      <td>1</td>\n",
       "      <td>0</td>\n",
       "      <td>0</td>\n",
       "      <td>1</td>\n",
       "    </tr>\n",
       "    <tr>\n",
       "      <th>1</th>\n",
       "      <td>46</td>\n",
       "      <td>0</td>\n",
       "      <td>0</td>\n",
       "      <td>9</td>\n",
       "      <td>10.69</td>\n",
       "      <td>10.0</td>\n",
       "      <td>-4.0</td>\n",
       "      <td>542.40</td>\n",
       "      <td>38.33</td>\n",
       "      <td>10</td>\n",
       "      <td>...</td>\n",
       "      <td>1</td>\n",
       "      <td>0</td>\n",
       "      <td>1</td>\n",
       "      <td>1</td>\n",
       "      <td>1</td>\n",
       "      <td>1</td>\n",
       "      <td>0</td>\n",
       "      <td>1</td>\n",
       "      <td>1</td>\n",
       "      <td>0</td>\n",
       "    </tr>\n",
       "    <tr>\n",
       "      <th>2</th>\n",
       "      <td>50</td>\n",
       "      <td>0</td>\n",
       "      <td>0</td>\n",
       "      <td>4</td>\n",
       "      <td>33.65</td>\n",
       "      <td>30.0</td>\n",
       "      <td>73.9</td>\n",
       "      <td>280.85</td>\n",
       "      <td>0.00</td>\n",
       "      <td>0</td>\n",
       "      <td>...</td>\n",
       "      <td>1</td>\n",
       "      <td>0</td>\n",
       "      <td>1</td>\n",
       "      <td>1</td>\n",
       "      <td>0</td>\n",
       "      <td>1</td>\n",
       "      <td>0</td>\n",
       "      <td>0</td>\n",
       "      <td>0</td>\n",
       "      <td>1</td>\n",
       "    </tr>\n",
       "    <tr>\n",
       "      <th>3</th>\n",
       "      <td>78</td>\n",
       "      <td>0</td>\n",
       "      <td>1</td>\n",
       "      <td>13</td>\n",
       "      <td>27.82</td>\n",
       "      <td>4.0</td>\n",
       "      <td>98.0</td>\n",
       "      <td>1237.85</td>\n",
       "      <td>0.00</td>\n",
       "      <td>0</td>\n",
       "      <td>...</td>\n",
       "      <td>1</td>\n",
       "      <td>1</td>\n",
       "      <td>1</td>\n",
       "      <td>1</td>\n",
       "      <td>0</td>\n",
       "      <td>1</td>\n",
       "      <td>1</td>\n",
       "      <td>1</td>\n",
       "      <td>0</td>\n",
       "      <td>1</td>\n",
       "    </tr>\n",
       "    <tr>\n",
       "      <th>4</th>\n",
       "      <td>75</td>\n",
       "      <td>0</td>\n",
       "      <td>3</td>\n",
       "      <td>3</td>\n",
       "      <td>7.38</td>\n",
       "      <td>11.0</td>\n",
       "      <td>83.9</td>\n",
       "      <td>267.40</td>\n",
       "      <td>0.00</td>\n",
       "      <td>0</td>\n",
       "      <td>...</td>\n",
       "      <td>0</td>\n",
       "      <td>1</td>\n",
       "      <td>1</td>\n",
       "      <td>1</td>\n",
       "      <td>0</td>\n",
       "      <td>1</td>\n",
       "      <td>1</td>\n",
       "      <td>0</td>\n",
       "      <td>0</td>\n",
       "      <td>1</td>\n",
       "    </tr>\n",
       "  </tbody>\n",
       "</table>\n",
       "<p>5 rows × 40 columns</p>\n",
       "</div>"
      ],
      "text/plain": [
       "   Age  Number of Dependents  Number of Referrals  Tenure in Months  \\\n",
       "0   37                     0                    2                 9   \n",
       "1   46                     0                    0                 9   \n",
       "2   50                     0                    0                 4   \n",
       "3   78                     0                    1                13   \n",
       "4   75                     0                    3                 3   \n",
       "\n",
       "   Avg Monthly Long Distance Charges  Avg Monthly GB Download  Monthly Charge  \\\n",
       "0                              42.39                     16.0            65.6   \n",
       "1                              10.69                     10.0            -4.0   \n",
       "2                              33.65                     30.0            73.9   \n",
       "3                              27.82                      4.0            98.0   \n",
       "4                               7.38                     11.0            83.9   \n",
       "\n",
       "   Total Charges  Total Refunds  Total Extra Data Charges  ...  Gender_Male  \\\n",
       "0         593.30           0.00                         0  ...            0   \n",
       "1         542.40          38.33                        10  ...            1   \n",
       "2         280.85           0.00                         0  ...            1   \n",
       "3        1237.85           0.00                         0  ...            1   \n",
       "4         267.40           0.00                         0  ...            0   \n",
       "\n",
       "   Married_Yes  Phone Service_Yes  Internet Service_Yes  Multiple Lines_Yes  \\\n",
       "0            1                  1                     1                   0   \n",
       "1            0                  1                     1                   1   \n",
       "2            0                  1                     1                   0   \n",
       "3            1                  1                     1                   0   \n",
       "4            1                  1                     1                   0   \n",
       "\n",
       "   Internet Service_Yes  Streaming TV_Yes  Streaming Movies_Yes  \\\n",
       "0                     1                 1                     0   \n",
       "1                     1                 0                     1   \n",
       "2                     1                 0                     0   \n",
       "3                     1                 1                     1   \n",
       "4                     1                 1                     0   \n",
       "\n",
       "   Streaming Music_Yes  Unlimited Data_Yes  \n",
       "0                    0                   1  \n",
       "1                    1                   0  \n",
       "2                    0                   1  \n",
       "3                    0                   1  \n",
       "4                    0                   1  \n",
       "\n",
       "[5 rows x 40 columns]"
      ]
     },
     "execution_count": 953,
     "metadata": {},
     "output_type": "execute_result"
    }
   ],
   "source": [
    "dummy_list_multiple = ['Offer', 'Internet Type', 'Contract','Payment Method', 'Customer Status']\n",
    "dummy_list_binary = ['Gender' ,'Married', 'Phone Service', 'Internet Service','Multiple Lines', 'Internet Service', 'Streaming TV', 'Streaming Movies', 'Streaming Music', 'Unlimited Data']\n",
    "\n",
    "telecom_dummies = pd.get_dummies(telecom, columns=dummy_list_multiple, drop_first=False)\n",
    "telecom_dummies = pd.get_dummies(telecom_dummies, columns=dummy_list_binary, drop_first=True)\n",
    "\n",
    "# print(telecom_dummies)\n",
    "telecom_dummies.head()"
   ]
  },
  {
   "cell_type": "code",
   "execution_count": 954,
   "metadata": {},
   "outputs": [
    {
     "name": "stdout",
     "output_type": "stream",
     "text": [
      "<class 'pandas.core.frame.DataFrame'>\n",
      "RangeIndex: 7043 entries, 0 to 7042\n",
      "Data columns (total 40 columns):\n",
      " #   Column                             Non-Null Count  Dtype  \n",
      "---  ------                             --------------  -----  \n",
      " 0   Age                                7043 non-null   int64  \n",
      " 1   Number of Dependents               7043 non-null   int64  \n",
      " 2   Number of Referrals                7043 non-null   int64  \n",
      " 3   Tenure in Months                   7043 non-null   int64  \n",
      " 4   Avg Monthly Long Distance Charges  7043 non-null   float64\n",
      " 5   Avg Monthly GB Download            7043 non-null   float64\n",
      " 6   Monthly Charge                     7043 non-null   float64\n",
      " 7   Total Charges                      7043 non-null   float64\n",
      " 8   Total Refunds                      7043 non-null   float64\n",
      " 9   Total Extra Data Charges           7043 non-null   int64  \n",
      " 10  Total Long Distance Charges        7043 non-null   float64\n",
      " 11  Total Revenue                      7043 non-null   float64\n",
      " 12  Offer_None                         7043 non-null   uint8  \n",
      " 13  Offer_Offer A                      7043 non-null   uint8  \n",
      " 14  Offer_Offer B                      7043 non-null   uint8  \n",
      " 15  Offer_Offer C                      7043 non-null   uint8  \n",
      " 16  Offer_Offer D                      7043 non-null   uint8  \n",
      " 17  Offer_Offer E                      7043 non-null   uint8  \n",
      " 18  Internet Type_Cable                7043 non-null   uint8  \n",
      " 19  Internet Type_DSL                  7043 non-null   uint8  \n",
      " 20  Internet Type_Fiber Optic          7043 non-null   uint8  \n",
      " 21  Contract_Month-to-Month            7043 non-null   uint8  \n",
      " 22  Contract_One Year                  7043 non-null   uint8  \n",
      " 23  Contract_Two Year                  7043 non-null   uint8  \n",
      " 24  Payment Method_Bank Withdrawal     7043 non-null   uint8  \n",
      " 25  Payment Method_Credit Card         7043 non-null   uint8  \n",
      " 26  Payment Method_Mailed Check        7043 non-null   uint8  \n",
      " 27  Customer Status_Churned            7043 non-null   uint8  \n",
      " 28  Customer Status_Joined             7043 non-null   uint8  \n",
      " 29  Customer Status_Stayed             7043 non-null   uint8  \n",
      " 30  Gender_Male                        7043 non-null   uint8  \n",
      " 31  Married_Yes                        7043 non-null   uint8  \n",
      " 32  Phone Service_Yes                  7043 non-null   uint8  \n",
      " 33  Internet Service_Yes               7043 non-null   uint8  \n",
      " 34  Multiple Lines_Yes                 7043 non-null   uint8  \n",
      " 35  Internet Service_Yes               7043 non-null   uint8  \n",
      " 36  Streaming TV_Yes                   7043 non-null   uint8  \n",
      " 37  Streaming Movies_Yes               7043 non-null   uint8  \n",
      " 38  Streaming Music_Yes                7043 non-null   uint8  \n",
      " 39  Unlimited Data_Yes                 7043 non-null   uint8  \n",
      "dtypes: float64(7), int64(5), uint8(28)\n",
      "memory usage: 853.0 KB\n"
     ]
    }
   ],
   "source": [
    "telecom_dummies.info()"
   ]
  },
  {
   "attachments": {},
   "cell_type": "markdown",
   "metadata": {},
   "source": [
    "# Import model and metric functions"
   ]
  },
  {
   "cell_type": "code",
   "execution_count": 955,
   "metadata": {},
   "outputs": [],
   "source": [
    "from sklearn.linear_model import LogisticRegression\n",
    "from sklearn.model_selection import train_test_split\n",
    "from sklearn.metrics import confusion_matrix, ConfusionMatrixDisplay, accuracy_score, precision_score, recall_score, f1_score"
   ]
  },
  {
   "attachments": {},
   "cell_type": "markdown",
   "metadata": {},
   "source": [
    "# Pick Features and Create The Model"
   ]
  },
  {
   "cell_type": "code",
   "execution_count": 956,
   "metadata": {},
   "outputs": [],
   "source": [
    "labels = telecom_dummies['Customer Status_Churned']\n",
    "\n",
    "features = telecom_dummies[['Age', 'Married_Yes', 'Tenure in Months']]"
   ]
  },
  {
   "cell_type": "code",
   "execution_count": 957,
   "metadata": {},
   "outputs": [],
   "source": [
    "training_features, test_features, training_labels, test_labels = train_test_split(features, labels, test_size = 0.3, random_state=23) "
   ]
  },
  {
   "cell_type": "code",
   "execution_count": 958,
   "metadata": {},
   "outputs": [
    {
     "data": {
      "text/plain": [
       "0.7491717936583058"
      ]
     },
     "execution_count": 958,
     "metadata": {},
     "output_type": "execute_result"
    }
   ],
   "source": [
    "model1 = LogisticRegression(max_iter=400)\n",
    "model1.fit(training_features, training_labels)\n",
    "model1_score = model1.score(test_features, test_labels)\n",
    "model1_score\n"
   ]
  },
  {
   "attachments": {},
   "cell_type": "markdown",
   "metadata": {},
   "source": [
    "# Evaluate Model Performance"
   ]
  },
  {
   "cell_type": "code",
   "execution_count": 959,
   "metadata": {},
   "outputs": [
    {
     "data": {
      "image/png": "[encoded data removed]",
      "text/plain": [
       "<Figure size 640x480 with 2 Axes>"
      ]
     },
     "metadata": {},
     "output_type": "display_data"
    }
   ],
   "source": [
    "label_pred = model1.predict(test_features)\n",
    "\n",
    "cm = confusion_matrix(test_labels, label_pred, labels=model1.classes_)\n",
    "disp = ConfusionMatrixDisplay(confusion_matrix=cm, display_labels=model1.classes_)\n",
    "disp.plot()\n",
    "plt.show()"
   ]
  },
  {
   "cell_type": "code",
   "execution_count": 960,
   "metadata": {},
   "outputs": [
    {
     "name": "stdout",
     "output_type": "stream",
     "text": [
      "              precision    recall  f1-score   support\n",
      "\n",
      "           0       0.77      0.95      0.85      1547\n",
      "           1       0.59      0.21      0.31       566\n",
      "\n",
      "    accuracy                           0.75      2113\n",
      "   macro avg       0.68      0.58      0.58      2113\n",
      "weighted avg       0.72      0.75      0.70      2113\n",
      "\n"
     ]
    }
   ],
   "source": [
    "from sklearn.metrics import classification_report\n",
    "print(classification_report(test_labels, label_pred))"
   ]
  },
  {
   "cell_type": "code",
   "execution_count": 961,
   "metadata": {},
   "outputs": [
    {
     "name": "stdout",
     "output_type": "stream",
     "text": [
      "Accuracy Score: 0.7491717936583058\n",
      "Precision Score: 0.59\n",
      "Recall Score: 0.20848056537102475\n",
      "F1 Score: 0.30809399477806787\n"
     ]
    }
   ],
   "source": [
    "accuracy = accuracy_score(test_labels, label_pred)\n",
    "print(f'Accuracy Score: {accuracy}')\n",
    "\n",
    "precision = precision_score(test_labels, label_pred)\n",
    "print(f'Precision Score: {precision}')\n",
    "\n",
    "recall = recall_score(test_labels, label_pred)\n",
    "print(f'Recall Score: {recall}')\n",
    "\n",
    "f1 = f1_score(test_labels, label_pred)\n",
    "print(f'F1 Score: {f1}')"
   ]
  },
  {
   "attachments": {},
   "cell_type": "markdown",
   "metadata": {},
   "source": [
    "Evaluate customer churn based on financial features"
   ]
  },
  {
   "cell_type": "code",
   "execution_count": 962,
   "metadata": {},
   "outputs": [],
   "source": [
    "features = telecom_dummies[['Monthly Charge', 'Total Charges', 'Total Refunds', 'Total Extra Data Charges', 'Total Long Distance Charges', 'Total Revenue']]\n",
    "\n",
    "training_features, test_features, training_labels, test_labels = train_test_split(features, labels, test_size = 0.3, random_state=23)"
   ]
  },
  {
   "cell_type": "code",
   "execution_count": 963,
   "metadata": {},
   "outputs": [
    {
     "data": {
      "text/plain": [
       "0.7884524372929484"
      ]
     },
     "execution_count": 963,
     "metadata": {},
     "output_type": "execute_result"
    }
   ],
   "source": [
    "model2 = LogisticRegression(max_iter=150)\n",
    "model2.fit(training_features, training_labels)\n",
    "model2_score = model2.score(test_features, test_labels)\n",
    "model2_score"
   ]
  },
  {
   "cell_type": "code",
   "execution_count": 964,
   "metadata": {},
   "outputs": [
    {
     "data": {
      "image/png": "[encoded data removed]",
      "text/plain": [
       "<Figure size 640x480 with 2 Axes>"
      ]
     },
     "metadata": {},
     "output_type": "display_data"
    }
   ],
   "source": [
    "label_pred = model2.predict(test_features)\n",
    "\n",
    "cm = confusion_matrix(test_labels, label_pred, labels=model2.classes_)\n",
    "disp = ConfusionMatrixDisplay(confusion_matrix=cm, display_labels=model2.classes_)\n",
    "disp.plot()\n",
    "plt.show()"
   ]
  },
  {
   "cell_type": "code",
   "execution_count": 965,
   "metadata": {},
   "outputs": [
    {
     "name": "stdout",
     "output_type": "stream",
     "text": [
      "              precision    recall  f1-score   support\n",
      "\n",
      "           0       0.81      0.92      0.86      1547\n",
      "           1       0.67      0.42      0.51       566\n",
      "\n",
      "    accuracy                           0.79      2113\n",
      "   macro avg       0.74      0.67      0.69      2113\n",
      "weighted avg       0.77      0.79      0.77      2113\n",
      "\n"
     ]
    }
   ],
   "source": [
    "print(classification_report(test_labels, label_pred))"
   ]
  },
  {
   "cell_type": "code",
   "execution_count": 966,
   "metadata": {},
   "outputs": [
    {
     "name": "stdout",
     "output_type": "stream",
     "text": [
      "Accuracy Score: 0.7884524372929484\n",
      "Precision Score: 0.6676056338028169\n",
      "Recall Score: 0.41872791519434627\n",
      "F1 Score: 0.5146579804560261\n"
     ]
    }
   ],
   "source": [
    "accuracy = accuracy_score(test_labels, label_pred)\n",
    "print(f'Accuracy Score: {accuracy}')\n",
    "\n",
    "precision = precision_score(test_labels, label_pred)\n",
    "print(f'Precision Score: {precision}')\n",
    "\n",
    "recall = recall_score(test_labels, label_pred)\n",
    "print(f'Recall Score: {recall}')\n",
    "\n",
    "f1 = f1_score(test_labels, label_pred)\n",
    "print(f'F1 Score: {f1}')"
   ]
  },
  {
   "attachments": {},
   "cell_type": "markdown",
   "metadata": {},
   "source": [
    "Evaluate customer churn based on use of services and whether they purchased additional services"
   ]
  },
  {
   "cell_type": "code",
   "execution_count": 967,
   "metadata": {},
   "outputs": [],
   "source": [
    "features = telecom_dummies[['Tenure in Months', 'Avg Monthly GB Download', 'Internet Type_Cable', 'Internet Type_DSL', 'Internet Type_Fiber Optic', 'Phone Service_Yes',\n",
    " 'Internet Service_Yes', 'Multiple Lines_Yes', 'Streaming TV_Yes', 'Streaming Movies_Yes', 'Streaming Music_Yes', 'Unlimited Data_Yes']]\n",
    "\n",
    "training_features, test_features, training_labels, test_labels = train_test_split(features, labels, test_size = 0.3, random_state=23)"
   ]
  },
  {
   "cell_type": "code",
   "execution_count": 968,
   "metadata": {},
   "outputs": [],
   "source": [
    "from sklearn.preprocessing import MinMaxScaler\n",
    "\n",
    "scaled = MinMaxScaler()\n",
    "minmax_train_features = scaled.fit_transform(training_features)\n",
    "minmax_test_features = scaled.fit_transform(test_features)"
   ]
  },
  {
   "cell_type": "code",
   "execution_count": 969,
   "metadata": {},
   "outputs": [
    {
     "data": {
      "text/plain": [
       "0.791292001893043"
      ]
     },
     "execution_count": 969,
     "metadata": {},
     "output_type": "execute_result"
    }
   ],
   "source": [
    "model3 = LogisticRegression()\n",
    "model3.fit(minmax_train_features, training_labels)\n",
    "model3_score = model3.score(minmax_test_features, test_labels)\n",
    "model3_score"
   ]
  },
  {
   "cell_type": "code",
   "execution_count": 970,
   "metadata": {},
   "outputs": [
    {
     "data": {
      "image/png": "[encoded data removed]",
      "text/plain": [
       "<Figure size 640x480 with 2 Axes>"
      ]
     },
     "metadata": {},
     "output_type": "display_data"
    }
   ],
   "source": [
    "label_pred = model3.predict(minmax_test_features)\n",
    "\n",
    "cm = confusion_matrix(test_labels, label_pred, labels=model3.classes_)\n",
    "disp = ConfusionMatrixDisplay(confusion_matrix=cm, display_labels=model3.classes_)\n",
    "disp.plot()\n",
    "plt.show()"
   ]
  },
  {
   "cell_type": "code",
   "execution_count": 971,
   "metadata": {},
   "outputs": [
    {
     "name": "stdout",
     "output_type": "stream",
     "text": [
      "Accuracy Score: 0.791292001893043\n",
      "Precision Score: 0.654320987654321\n",
      "Recall Score: 0.46819787985865724\n",
      "F1 Score: 0.5458290422245108\n"
     ]
    }
   ],
   "source": [
    "accuracy = accuracy_score(test_labels, label_pred)\n",
    "print(f'Accuracy Score: {accuracy}')\n",
    "\n",
    "precision = precision_score(test_labels, label_pred)\n",
    "print(f'Precision Score: {precision}')\n",
    "\n",
    "recall = recall_score(test_labels, label_pred)\n",
    "print(f'Recall Score: {recall}')\n",
    "\n",
    "f1 = f1_score(test_labels, label_pred)\n",
    "print(f'F1 Score: {f1}')"
   ]
  },
  {
   "cell_type": "code",
   "execution_count": 972,
   "metadata": {},
   "outputs": [
    {
     "name": "stdout",
     "output_type": "stream",
     "text": [
      "              precision    recall  f1-score   support\n",
      "\n",
      "           0       0.82      0.91      0.86      1547\n",
      "           1       0.65      0.47      0.55       566\n",
      "\n",
      "    accuracy                           0.79      2113\n",
      "   macro avg       0.74      0.69      0.71      2113\n",
      "weighted avg       0.78      0.79      0.78      2113\n",
      "\n"
     ]
    }
   ],
   "source": [
    "from sklearn.metrics import classification_report\n",
    "print(classification_report(test_labels, label_pred))"
   ]
  },
  {
   "attachments": {},
   "cell_type": "markdown",
   "metadata": {},
   "source": [
    "# Random Forest Classifier\n"
   ]
  },
  {
   "cell_type": "code",
   "execution_count": 973,
   "metadata": {},
   "outputs": [],
   "source": [
    "labels = telecom_dummies['Customer Status_Churned']\n",
    "\n",
    "features = telecom_dummies[['Age', 'Married_Yes', 'Tenure in Months']]\n",
    "\n",
    "training_features, test_features, training_labels, test_labels = train_test_split(features, labels, test_size = 0.3)"
   ]
  },
  {
   "cell_type": "code",
   "execution_count": 974,
   "metadata": {},
   "outputs": [
    {
     "data": {
      "text/plain": [
       "0.7075248461902508"
      ]
     },
     "execution_count": 974,
     "metadata": {},
     "output_type": "execute_result"
    }
   ],
   "source": [
    "from sklearn.ensemble import RandomForestClassifier\n",
    "\n",
    "forest1 = RandomForestClassifier(n_estimators = 100, criterion='gini')\n",
    "forest1.fit(training_features, training_labels)\n",
    "forest1_score = forest1.score(test_features, test_labels)\n",
    "forest1_score"
   ]
  },
  {
   "cell_type": "code",
   "execution_count": 975,
   "metadata": {},
   "outputs": [
    {
     "data": {
      "image/png": "[encoded data removed]",
      "text/plain": [
       "<Figure size 640x480 with 2 Axes>"
      ]
     },
     "metadata": {},
     "output_type": "display_data"
    },
    {
     "name": "stdout",
     "output_type": "stream",
     "text": [
      "              precision    recall  f1-score   support\n",
      "\n",
      "           0       0.77      0.85      0.81      1530\n",
      "           1       0.46      0.34      0.39       583\n",
      "\n",
      "    accuracy                           0.71      2113\n",
      "   macro avg       0.61      0.59      0.60      2113\n",
      "weighted avg       0.68      0.71      0.69      2113\n",
      "\n"
     ]
    }
   ],
   "source": [
    "label_pred = forest1.predict(test_features)\n",
    "\n",
    "cm = confusion_matrix(test_labels, label_pred, labels=forest1.classes_)\n",
    "disp = ConfusionMatrixDisplay(confusion_matrix=cm, display_labels=forest1.classes_)\n",
    "disp.plot()\n",
    "plt.show()\n",
    "\n",
    "print(classification_report(test_labels, label_pred))"
   ]
  },
  {
   "attachments": {},
   "cell_type": "markdown",
   "metadata": {},
   "source": [
    "Evaluate customer churn based on financial features"
   ]
  },
  {
   "cell_type": "code",
   "execution_count": 976,
   "metadata": {},
   "outputs": [],
   "source": [
    "features = telecom_dummies[['Monthly Charge', 'Total Charges', 'Total Refunds', 'Total Extra Data Charges', 'Total Long Distance Charges', 'Total Revenue']]\n",
    "\n",
    "training_features, test_features, training_labels, test_labels = train_test_split(features, labels, test_size = 0.3, random_state=23)"
   ]
  },
  {
   "cell_type": "code",
   "execution_count": 977,
   "metadata": {},
   "outputs": [
    {
     "data": {
      "text/plain": [
       "0.7785139611926172"
      ]
     },
     "execution_count": 977,
     "metadata": {},
     "output_type": "execute_result"
    }
   ],
   "source": [
    "forest2 = RandomForestClassifier(n_estimators = 100, criterion='gini')\n",
    "forest2.fit(training_features, training_labels)\n",
    "forest2_score = forest2.score(test_features, test_labels)\n",
    "forest2_score"
   ]
  },
  {
   "cell_type": "code",
   "execution_count": 978,
   "metadata": {},
   "outputs": [
    {
     "data": {
      "image/png": "[encoded data removed]",
      "text/plain": [
       "<Figure size 640x480 with 2 Axes>"
      ]
     },
     "metadata": {},
     "output_type": "display_data"
    },
    {
     "name": "stdout",
     "output_type": "stream",
     "text": [
      "              precision    recall  f1-score   support\n",
      "\n",
      "           0       0.81      0.91      0.86      1547\n",
      "           1       0.63      0.43      0.51       566\n",
      "\n",
      "    accuracy                           0.78      2113\n",
      "   macro avg       0.72      0.67      0.68      2113\n",
      "weighted avg       0.76      0.78      0.76      2113\n",
      "\n"
     ]
    }
   ],
   "source": [
    "label_pred = forest2.predict(test_features)\n",
    "\n",
    "cm = confusion_matrix(test_labels, label_pred, labels=forest2.classes_)\n",
    "disp = ConfusionMatrixDisplay(confusion_matrix=cm, display_labels=forest2.classes_)\n",
    "disp.plot()\n",
    "plt.show()\n",
    "\n",
    "print(classification_report(test_labels, label_pred))"
   ]
  },
  {
   "attachments": {},
   "cell_type": "markdown",
   "metadata": {},
   "source": [
    "Evaluate customer churn based on use of service and whether they purchased additional services"
   ]
  },
  {
   "cell_type": "code",
   "execution_count": 979,
   "metadata": {},
   "outputs": [],
   "source": [
    "features = telecom_dummies[['Tenure in Months', 'Avg Monthly GB Download', 'Internet Type_Cable', 'Internet Type_DSL', 'Internet Type_Fiber Optic', 'Phone Service_Yes',\n",
    " 'Internet Service_Yes', 'Multiple Lines_Yes', 'Streaming TV_Yes', 'Streaming Movies_Yes', 'Streaming Music_Yes', 'Unlimited Data_Yes']]\n",
    "\n",
    "training_features, test_features, training_labels, test_labels = train_test_split(features, labels, test_size = 0.3, random_state=23)"
   ]
  },
  {
   "cell_type": "code",
   "execution_count": 980,
   "metadata": {},
   "outputs": [],
   "source": [
    "scaled = MinMaxScaler()\n",
    "minmax_train_features = scaled.fit_transform(training_features)\n",
    "minmax_test_features = scaled.fit_transform(test_features)"
   ]
  },
  {
   "cell_type": "code",
   "execution_count": 981,
   "metadata": {},
   "outputs": [
    {
     "data": {
      "text/plain": [
       "0.7733080927591103"
      ]
     },
     "execution_count": 981,
     "metadata": {},
     "output_type": "execute_result"
    }
   ],
   "source": [
    "forest3 = RandomForestClassifier(n_estimators = 100, criterion='gini')\n",
    "forest3.fit(minmax_train_features, training_labels)\n",
    "forest3_score = forest3.score(minmax_test_features, test_labels)\n",
    "forest3_score"
   ]
  },
  {
   "cell_type": "code",
   "execution_count": 982,
   "metadata": {},
   "outputs": [
    {
     "data": {
      "image/png": "[encoded data removed]",
      "text/plain": [
       "<Figure size 640x480 with 2 Axes>"
      ]
     },
     "metadata": {},
     "output_type": "display_data"
    },
    {
     "name": "stdout",
     "output_type": "stream",
     "text": [
      "              precision    recall  f1-score   support\n",
      "\n",
      "           0       0.82      0.88      0.85      1547\n",
      "           1       0.60      0.47      0.53       566\n",
      "\n",
      "    accuracy                           0.77      2113\n",
      "   macro avg       0.71      0.68      0.69      2113\n",
      "weighted avg       0.76      0.77      0.76      2113\n",
      "\n"
     ]
    }
   ],
   "source": [
    "label_pred = forest3.predict(minmax_test_features)\n",
    "\n",
    "cm = confusion_matrix(test_labels, label_pred, labels=forest3.classes_)\n",
    "disp = ConfusionMatrixDisplay(confusion_matrix=cm, display_labels=forest3.classes_)\n",
    "disp.plot()\n",
    "plt.show()\n",
    "\n",
    "print(classification_report(test_labels, label_pred))"
   ]
  },
  {
   "attachments": {},
   "cell_type": "markdown",
   "metadata": {},
   "source": [
    "# Conclusions\n",
    "\n",
    "The two classification methods used for this analysis were Logistical Regression and Random Forest. The models were tested using 3 diffrent feature sets that contained both categorical and continuous data. The two methods yielded similar results but Logistical Regression slightly out performed the Random Forest Classifier. As you can see in the plot below, the Logistic Regression model achieved a max score of about 79% on the third feature set. Meanwhile, the Random Forest model achieved slightly less than a 78% max accuracy score on the 2nd feature set. This difference in accuracy is statistically insignificant. However, the performance of the Logistical Regression model is surprising because linearity between the features and the labels was not expected to be very high. "
   ]
  },
  {
   "cell_type": "code",
   "execution_count": 986,
   "metadata": {},
   "outputs": [
    {
     "data": {
      "image/png": "[encoded data removed]",
      "text/plain": [
       "<Figure size 640x480 with 1 Axes>"
      ]
     },
     "metadata": {},
     "output_type": "display_data"
    }
   ],
   "source": [
    "lr_accuracies = [model1_score, model2_score, model3_score]\n",
    "rf_accuracies = [forest1_score, forest2_score, forest3_score]\n",
    "\n",
    "x = [1,2,3]\n",
    "labels = ['1st' , '2nd', '3rd']\n",
    "\n",
    "fig, ax = plt.subplots()\n",
    "fig.canvas.draw()\n",
    "\n",
    "plt.plot(x, lr_accuracies, label='Logistical Regression', color='r', marker='o')\n",
    "plt.plot(x, rf_accuracies, label='Random Forest', color='b', marker='o')\n",
    "plt.legend()\n",
    "plt.xticks(x, labels)\n",
    "plt.title('Logistic Regression v. Random Forest')\n",
    "plt.xlabel('Feature Set')\n",
    "plt.ylabel('Accuracy Score')\n",
    "plt.show()"
   ]
  }
 ],
 "metadata": {
  "kernelspec": {
   "display_name": "Python 3",
   "language": "python",
   "name": "python3"
  },
  "language_info": {
   "codemirror_mode": {
    "name": "ipython",
    "version": 3
   },
   "file_extension": ".py",
   "mimetype": "text/x-python",
   "name": "python",
   "nbconvert_exporter": "python",
   "pygments_lexer": "ipython3",
   "version": "3.11.1"
  },
  "orig_nbformat": 4,
  "vscode": {
   "interpreter": {
    "hash": "885c4be0b1baa7c7463ff34b7f25f07c998031a43d752f747796ee226f12effb"
   }
  }
 },
 "nbformat": 4,
 "nbformat_minor": 2
}
